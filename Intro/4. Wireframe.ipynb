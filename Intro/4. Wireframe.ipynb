{
 "cells": [
  {
   "cell_type": "markdown",
   "metadata": {},
   "source": [
    "# Wireframe\n",
    "El wireframe de abogabot se encuentra en https://www.figma.com/file/g0iAerPTtKaEl7CUnbRnTY/Untitled?node-id=2%3A31\n"
   ]
  }
 ],
 "metadata": {
  "interpreter": {
   "hash": "093716368ce9a2765281b083504e9687ebb767334e3989625b9351f84d33bd77"
  },
  "kernelspec": {
   "display_name": "Python 3.10.2 64-bit",
   "language": "python",
   "name": "python3"
  },
  "language_info": {
   "name": "python",
   "version": "3.10.2"
  },
  "orig_nbformat": 4
 },
 "nbformat": 4,
 "nbformat_minor": 2
}
