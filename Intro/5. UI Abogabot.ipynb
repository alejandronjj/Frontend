{
 "cells": [
  {
   "cell_type": "markdown",
   "metadata": {},
   "source": [
    "# UI\n",
    "\n",
    "El desarrollo preliminar de la interfaz de usuario se encuentra en\n",
    "\n",
    "https://www.figma.com/file/tBzrldw66kFY8xhqIBxLoG/ABOGABOT-intento?node-id=0%3A1"
   ]
  }
 ],
 "metadata": {
  "language_info": {
   "name": "plaintext"
  },
  "orig_nbformat": 4
 },
 "nbformat": 4,
 "nbformat_minor": 2
}
