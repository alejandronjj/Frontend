{
 "cells": [
  {
   "cell_type": "markdown",
   "metadata": {},
   "source": [
    "# Público Objetivo\n",
    "\n",
    "El público objetivo se encuentra en \n",
    "https://miro.com/app/board/uXjVOJljLbs=/?invite_link_id=265203668195\n"
   ]
  }
 ],
 "metadata": {
  "interpreter": {
   "hash": "093716368ce9a2765281b083504e9687ebb767334e3989625b9351f84d33bd77"
  },
  "kernelspec": {
   "display_name": "Python 3.10.2 64-bit",
   "language": "python",
   "name": "python3"
  },
  "language_info": {
   "name": "python",
   "version": "3.10.2"
  },
  "orig_nbformat": 4
 },
 "nbformat": 4,
 "nbformat_minor": 2
}
